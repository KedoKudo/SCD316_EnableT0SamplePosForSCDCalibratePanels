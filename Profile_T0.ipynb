{
 "cells": [
  {
   "cell_type": "markdown",
   "id": "460d45dd-186a-4b58-85a5-6f0dc6a1525d",
   "metadata": {},
   "source": [
    "# Profile objective function along T0 axis"
   ]
  },
  {
   "cell_type": "code",
   "execution_count": 1,
   "id": "fb6fe3ea-3b95-413f-a75a-a532f352868c",
   "metadata": {},
   "outputs": [],
   "source": [
    "%matplotlib widget"
   ]
  },
  {
   "cell_type": "code",
   "execution_count": 2,
   "id": "6471cde3-9b22-4b49-860d-de9134d8fbcf",
   "metadata": {},
   "outputs": [],
   "source": [
    "import numpy as np\n",
    "import pandas as pd\n",
    "import matplotlib.pyplot as plt"
   ]
  },
  {
   "cell_type": "markdown",
   "id": "a271c15f-fc77-4910-8d3c-92988b6db27b",
   "metadata": {},
   "source": [
    "## Profiling objective function along T0 axis using ideal TOPAZ data"
   ]
  },
  {
   "cell_type": "code",
   "execution_count": 3,
   "id": "0c3b1133-bd1e-478d-a450-0a42f446eac9",
   "metadata": {},
   "outputs": [
    {
     "data": {
      "text/html": [
       "<div>\n",
       "<style scoped>\n",
       "    .dataframe tbody tr th:only-of-type {\n",
       "        vertical-align: middle;\n",
       "    }\n",
       "\n",
       "    .dataframe tbody tr th {\n",
       "        vertical-align: top;\n",
       "    }\n",
       "\n",
       "    .dataframe thead th {\n",
       "        text-align: right;\n",
       "    }\n",
       "</style>\n",
       "<table border=\"1\" class=\"dataframe\">\n",
       "  <thead>\n",
       "    <tr style=\"text-align: right;\">\n",
       "      <th></th>\n",
       "      <th>dT0</th>\n",
       "      <th>residual</th>\n",
       "    </tr>\n",
       "  </thead>\n",
       "  <tbody>\n",
       "    <tr>\n",
       "      <th>count</th>\n",
       "      <td>2.001000e+03</td>\n",
       "      <td>2001.000000</td>\n",
       "    </tr>\n",
       "    <tr>\n",
       "      <th>mean</th>\n",
       "      <td>-1.818080e-15</td>\n",
       "      <td>0.000047</td>\n",
       "    </tr>\n",
       "    <tr>\n",
       "      <th>std</th>\n",
       "      <td>5.777833e+00</td>\n",
       "      <td>0.000016</td>\n",
       "    </tr>\n",
       "    <tr>\n",
       "      <th>min</th>\n",
       "      <td>-1.000000e+01</td>\n",
       "      <td>0.000026</td>\n",
       "    </tr>\n",
       "    <tr>\n",
       "      <th>25%</th>\n",
       "      <td>-5.000000e+00</td>\n",
       "      <td>0.000032</td>\n",
       "    </tr>\n",
       "    <tr>\n",
       "      <th>50%</th>\n",
       "      <td>-1.688892e-13</td>\n",
       "      <td>0.000045</td>\n",
       "    </tr>\n",
       "    <tr>\n",
       "      <th>75%</th>\n",
       "      <td>5.000000e+00</td>\n",
       "      <td>0.000061</td>\n",
       "    </tr>\n",
       "    <tr>\n",
       "      <th>max</th>\n",
       "      <td>1.000000e+01</td>\n",
       "      <td>0.000078</td>\n",
       "    </tr>\n",
       "  </tbody>\n",
       "</table>\n",
       "</div>"
      ],
      "text/plain": [
       "                dT0     residual\n",
       "count  2.001000e+03  2001.000000\n",
       "mean  -1.818080e-15     0.000047\n",
       "std    5.777833e+00     0.000016\n",
       "min   -1.000000e+01     0.000026\n",
       "25%   -5.000000e+00     0.000032\n",
       "50%   -1.688892e-13     0.000045\n",
       "75%    5.000000e+00     0.000061\n",
       "max    1.000000e+01     0.000078"
      ]
     },
     "execution_count": 3,
     "metadata": {},
     "output_type": "execute_result"
    }
   ],
   "source": [
    "df_ideal = pd.read_csv(\"data/profileSCDCalibratePanels2_T0_idealTOPAZ.csv\", delimiter=\"\\t\")\n",
    "\n",
    "df_ideal.describe()"
   ]
  },
  {
   "cell_type": "code",
   "execution_count": 4,
   "id": "54f2af75-04cf-4c2d-9ecd-1f13297a91b1",
   "metadata": {},
   "outputs": [
    {
     "data": {
      "application/vnd.jupyter.widget-view+json": {
       "model_id": "838afc7846484fce9326abc04a720b9b",
       "version_major": 2,
       "version_minor": 0
      },
      "text/plain": [
       "Canvas(toolbar=Toolbar(toolitems=[('Home', 'Reset original view', 'home', 'home'), ('Back', 'Back to previous …"
      ]
     },
     "metadata": {},
     "output_type": "display_data"
    },
    {
     "name": "stdout",
     "output_type": "stream",
     "text": [
      "Minimum@\n",
      "      dT0  residual\n",
      "995 -0.05  0.000026\n"
     ]
    }
   ],
   "source": [
    "# locate the minimum\n",
    "dT0_at_minResidual = df_ideal[df_ideal[\"residual\"]==df_ideal[\"residual\"].min()]\n",
    "\n",
    "# plot\n",
    "plt.figure()\n",
    "plt.plot(df_ideal[\"dT0\"],df_ideal[\"residual\"])\n",
    "plt.plot(dT0_at_minResidual[\"dT0\"], dT0_at_minResidual[\"residual\"], \"rx\")\n",
    "plt.xlabel(\"deltaT0 / ms\")\n",
    "plt.ylabel(\"residual\")\n",
    "plt.title(\"residual profile along T0\")\n",
    "print(f\"Minimum@\\n{dT0_at_minResidual}\")"
   ]
  },
  {
   "cell_type": "markdown",
   "id": "f7311343-e323-4ad3-9b99-d97ea5d72505",
   "metadata": {},
   "source": [
    "## Profiling objective function along T0 axis using provided TOPAZ data"
   ]
  },
  {
   "cell_type": "code",
   "execution_count": 5,
   "id": "de0f7645-fd8d-48bf-b890-a4b1b70a24eb",
   "metadata": {},
   "outputs": [
    {
     "data": {
      "text/html": [
       "<div>\n",
       "<style scoped>\n",
       "    .dataframe tbody tr th:only-of-type {\n",
       "        vertical-align: middle;\n",
       "    }\n",
       "\n",
       "    .dataframe tbody tr th {\n",
       "        vertical-align: top;\n",
       "    }\n",
       "\n",
       "    .dataframe thead th {\n",
       "        text-align: right;\n",
       "    }\n",
       "</style>\n",
       "<table border=\"1\" class=\"dataframe\">\n",
       "  <thead>\n",
       "    <tr style=\"text-align: right;\">\n",
       "      <th></th>\n",
       "      <th>dT0</th>\n",
       "      <th>residual</th>\n",
       "    </tr>\n",
       "  </thead>\n",
       "  <tbody>\n",
       "    <tr>\n",
       "      <th>count</th>\n",
       "      <td>2.001000e+03</td>\n",
       "      <td>2001.000000</td>\n",
       "    </tr>\n",
       "    <tr>\n",
       "      <th>mean</th>\n",
       "      <td>-1.818080e-15</td>\n",
       "      <td>0.000469</td>\n",
       "    </tr>\n",
       "    <tr>\n",
       "      <th>std</th>\n",
       "      <td>5.777833e+00</td>\n",
       "      <td>0.000007</td>\n",
       "    </tr>\n",
       "    <tr>\n",
       "      <th>min</th>\n",
       "      <td>-1.000000e+01</td>\n",
       "      <td>0.000461</td>\n",
       "    </tr>\n",
       "    <tr>\n",
       "      <th>25%</th>\n",
       "      <td>-5.000000e+00</td>\n",
       "      <td>0.000462</td>\n",
       "    </tr>\n",
       "    <tr>\n",
       "      <th>50%</th>\n",
       "      <td>-1.688892e-13</td>\n",
       "      <td>0.000467</td>\n",
       "    </tr>\n",
       "    <tr>\n",
       "      <th>75%</th>\n",
       "      <td>5.000000e+00</td>\n",
       "      <td>0.000475</td>\n",
       "    </tr>\n",
       "    <tr>\n",
       "      <th>max</th>\n",
       "      <td>1.000000e+01</td>\n",
       "      <td>0.000486</td>\n",
       "    </tr>\n",
       "  </tbody>\n",
       "</table>\n",
       "</div>"
      ],
      "text/plain": [
       "                dT0     residual\n",
       "count  2.001000e+03  2001.000000\n",
       "mean  -1.818080e-15     0.000469\n",
       "std    5.777833e+00     0.000007\n",
       "min   -1.000000e+01     0.000461\n",
       "25%   -5.000000e+00     0.000462\n",
       "50%   -1.688892e-13     0.000467\n",
       "75%    5.000000e+00     0.000475\n",
       "max    1.000000e+01     0.000486"
      ]
     },
     "execution_count": 5,
     "metadata": {},
     "output_type": "execute_result"
    }
   ],
   "source": [
    "df_topaz = pd.read_csv(\"data/profileSCDCalibratePanels2_T0_SC100KMonoclinic_C.csv\", delimiter=\"\\t\")\n",
    "\n",
    "df_topaz.describe()"
   ]
  },
  {
   "cell_type": "code",
   "execution_count": 6,
   "id": "70dbb118-e3bc-4d9a-8df5-9e89ad16a3a5",
   "metadata": {},
   "outputs": [
    {
     "data": {
      "application/vnd.jupyter.widget-view+json": {
       "model_id": "b4eba06df9cb43dfac1a8dce37a877b7",
       "version_major": 2,
       "version_minor": 0
      },
      "text/plain": [
       "Canvas(toolbar=Toolbar(toolitems=[('Home', 'Reset original view', 'home', 'home'), ('Back', 'Back to previous …"
      ]
     },
     "metadata": {},
     "output_type": "display_data"
    },
    {
     "name": "stdout",
     "output_type": "stream",
     "text": [
      "Minimum@\n",
      "       dT0  residual\n",
      "1018  0.18  0.000461\n"
     ]
    }
   ],
   "source": [
    "# locate the minimum\n",
    "dT0_at_minResidual = df_topaz[df_topaz[\"residual\"]==df_topaz[\"residual\"].min()]\n",
    "\n",
    "# plot\n",
    "plt.figure()\n",
    "plt.plot(df_topaz[\"dT0\"],df_topaz[\"residual\"])\n",
    "plt.plot(dT0_at_minResidual[\"dT0\"], dT0_at_minResidual[\"residual\"], \"rx\")\n",
    "plt.xlabel(\"deltaT0 / ms\")\n",
    "plt.ylabel(\"residual\")\n",
    "plt.title(\"residual profile along T0\")\n",
    "print(f\"Minimum@\\n{dT0_at_minResidual}\")"
   ]
  },
  {
   "cell_type": "code",
   "execution_count": null,
   "id": "e8113ead-b9d0-49d4-b1f7-49268d505fcb",
   "metadata": {},
   "outputs": [],
   "source": []
  }
 ],
 "metadata": {
  "kernelspec": {
   "display_name": "Python 3",
   "language": "python",
   "name": "python3"
  },
  "language_info": {
   "codemirror_mode": {
    "name": "ipython",
    "version": 3
   },
   "file_extension": ".py",
   "mimetype": "text/x-python",
   "name": "python",
   "nbconvert_exporter": "python",
   "pygments_lexer": "ipython3",
   "version": "3.8.8"
  }
 },
 "nbformat": 4,
 "nbformat_minor": 5
}
